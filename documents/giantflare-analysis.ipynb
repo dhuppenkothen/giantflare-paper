{
 "metadata": {
  "name": "",
  "signature": "sha256:76770ea0bdeadffeaec95fb94d51fd0d72a640cb57af376c1079d05b2b8f0017"
 },
 "nbformat": 3,
 "nbformat_minor": 0,
 "worksheets": [
  {
   "cells": [
    {
     "cell_type": "heading",
     "level": 1,
     "metadata": {},
     "source": [
      "Analysis of the 625 Hz QPO in the 2004 Giant Flare of SGR 1806-20 Observed with RXTE and RHESSI"
     ]
    },
    {
     "cell_type": "markdown",
     "metadata": {},
     "source": [
      "This document is a step-by-step to repeat the analysis in Huppenkothen, Watts \\& Levin (submitted). The steps below require\n",
      "the basic data from RXTE and RHESSI (pre-processed) as well as some intermediate data products to avoid long runtimes \n",
      "(where long may mean weeks).\n",
      "\n",
      "To load either the RXTE or RHESSI data set, we can perform the following command: "
     ]
    },
    {
     "cell_type": "code",
     "collapsed": false,
     "input": [
      "import giantflare_paper_analysis\n",
      "tnew_rxte = giantflare_paper_analysis.load_rxte_data(datadir=\"../data/\", tstart=198.0)\n",
      "tnew_rhessi = giantflare_paper_analysis.load_rhessi_data(datadir=\"../data/\")\n",
      "print(tnew_rxte)\n",
      "print(tnew_rhessi)"
     ],
     "language": "python",
     "metadata": {},
     "outputs": [
      {
       "output_type": "stream",
       "stream": "stdout",
       "text": [
        "[ 198.00556761  198.00599968  198.0119586  ...,  349.94205695  349.95839638\n",
        "  349.96950358]\n",
        "[  80.00034714   80.01157856   80.03179359 ...,  235.98619461  235.98664379\n",
        "  235.9949522 ]\n"
       ]
      }
     ],
     "prompt_number": 11
    },
    {
     "cell_type": "markdown",
     "metadata": {},
     "source": [
      "This automatically loads the data in the right energy channels and in the right time interval for the analysis of the paper. The start time can be changed using the keyword `tstart`, the range of energy channels using the keyword `climits` followed by a list of two elements, the lower and upper channel."
     ]
    },
    {
     "cell_type": "heading",
     "level": 2,
     "metadata": {},
     "source": [
      "Computing P-Values for the RXTE Analysis"
     ]
    },
    {
     "cell_type": "markdown",
     "metadata": {},
     "source": [
      "One can compute the p-values for the RXTE data across a number of averaged cycles simply using the function `rxte_pvalues` in `giantflare_paper_analysis.py`. The code will load the RXTE data file and perform a similar analysis to Strohmayer \\& Watts (2006), but taking into account both periodograms in single cycles as well as periodograms averaged at the same rotational phase of the neutron star over consecutive rotational cycles (see Huppenkothen et al (submitted) for details).  \n",
      "\n",
      "You can invoke the command from inside ipython with "
     ]
    },
    {
     "cell_type": "code",
     "collapsed": false,
     "input": [
      "import giantflare_paper_analysis\n",
      "allstack, pvals, pvals_err = giantflare_paper_analysis.rxte_pvalues()"
     ],
     "language": "python",
     "metadata": {},
     "outputs": [
      {
       "output_type": "stream",
       "stream": "stdout",
       "text": [
        "I am here in search_singlepulse\n",
        "nsims: 100000"
       ]
      },
      {
       "output_type": "stream",
       "stream": "stdout",
       "text": [
        "\n",
        "pvals_all: [ 0.00713  0.01212  0.01203  0.01196  0.00309  0.00194  0.003    0.00175\n",
        "  0.00114  0.00153]\n"
       ]
      }
     ],
     "prompt_number": 3
    },
    {
     "cell_type": "markdown",
     "metadata": {},
     "source": [
      "This assumes that a file `sgr1806_rxte_simulated_maxpowers.txt` is present in `../data`/. This file contains the maximum powers at 625 Hz across all segments for $10^5$ single-cycle and cycle-averaged simulations. Files with data of this type can be specified with the `maxpowfile` keyword. Alternatively, the output of the function `make_rxte_sims` produces a file with these simulations and can be passed into the `savgallfile` keyword. \n",
      "\n",
      "To run your own simulations, invoke `make_rxte_sims` like this:"
     ]
    },
    {
     "cell_type": "code",
     "collapsed": false,
     "input": [
      "nsims=10 ## change the number of simulations, small here not to make the program run forever\n",
      "savgall = giantflare_paper_analysis.make_rxte_sims(tnew=None, nsims=nsims,save=True, fout=\"../data/sgr1806_rxte_savgall.dat\")"
     ],
     "language": "python",
     "metadata": {},
     "outputs": [
      {
       "output_type": "stream",
       "stream": "stdout",
       "text": [
        "I am on simulation 0\n",
        "I am here in search_singlepulse"
       ]
      },
      {
       "output_type": "stream",
       "stream": "stdout",
       "text": [
        "\n",
        "I am on simulation 1\n",
        "I am here in search_singlepulse"
       ]
      },
      {
       "output_type": "stream",
       "stream": "stdout",
       "text": [
        "\n",
        "I am on simulation 2"
       ]
      },
      {
       "output_type": "stream",
       "stream": "stdout",
       "text": [
        "\n",
        "I am here in search_singlepulse"
       ]
      },
      {
       "output_type": "stream",
       "stream": "stdout",
       "text": [
        "\n",
        "I am on simulation 3"
       ]
      },
      {
       "output_type": "stream",
       "stream": "stdout",
       "text": [
        "\n"
       ]
      },
      {
       "ename": "KeyboardInterrupt",
       "evalue": "",
       "output_type": "pyerr",
       "traceback": [
        "\u001b[0;31m---------------------------------------------------------------------------\u001b[0m\n\u001b[0;31mKeyboardInterrupt\u001b[0m                         Traceback (most recent call last)",
        "\u001b[0;32m<ipython-input-4-36cb2642c1ba>\u001b[0m in \u001b[0;36m<module>\u001b[0;34m()\u001b[0m\n\u001b[1;32m      1\u001b[0m \u001b[0mnsims\u001b[0m\u001b[0;34m=\u001b[0m\u001b[0;36m10\u001b[0m \u001b[0;31m## change the number of simulations, small here not to make the program run forever\u001b[0m\u001b[0;34m\u001b[0m\u001b[0m\n\u001b[0;32m----> 2\u001b[0;31m \u001b[0msavgall\u001b[0m \u001b[0;34m=\u001b[0m \u001b[0mgiantflare_paper_analysis\u001b[0m\u001b[0;34m.\u001b[0m\u001b[0mmake_rxte_sims\u001b[0m\u001b[0;34m(\u001b[0m\u001b[0mtnew\u001b[0m\u001b[0;34m=\u001b[0m\u001b[0mNone\u001b[0m\u001b[0;34m,\u001b[0m \u001b[0mnsims\u001b[0m\u001b[0;34m=\u001b[0m\u001b[0mnsims\u001b[0m\u001b[0;34m,\u001b[0m\u001b[0msave\u001b[0m\u001b[0;34m=\u001b[0m\u001b[0mTrue\u001b[0m\u001b[0;34m,\u001b[0m \u001b[0mfout\u001b[0m\u001b[0;34m=\u001b[0m\u001b[0;34m\"../data/sgr1806_rxte_savgall.dat\"\u001b[0m\u001b[0;34m)\u001b[0m\u001b[0;34m\u001b[0m\u001b[0m\n\u001b[0m",
        "\u001b[0;32m/Users/daniela/repositories/giantflare-paper/code/giantflare_paper_analysis.py\u001b[0m in \u001b[0;36mmake_rxte_sims\u001b[0;34m(tnew, nsims, save, fout)\u001b[0m\n\u001b[1;32m    202\u001b[0m \u001b[0;34m\u001b[0m\u001b[0m\n\u001b[1;32m    203\u001b[0m     savgall = giantflare.rxte_simulations(tnew, nsims=nsims, tcoarse=0.01, tfine=0.5/1000.0, freq=624.0, nsteps=10, \n\u001b[0;32m--> 204\u001b[0;31m                                           tseg=3.0, df=2.66, set_analysis=True, set_lc = False)\n\u001b[0m\u001b[1;32m    205\u001b[0m \u001b[0;34m\u001b[0m\u001b[0m\n\u001b[1;32m    206\u001b[0m \u001b[0;31m#    savgall = giantflare.simulations(tnew, nsims=nsims, tcoarse = 0.01, tfine =0.5/1000.0, freq=624.0, nsteps=10,\u001b[0m\u001b[0;34m\u001b[0m\u001b[0;34m\u001b[0m\u001b[0m\n",
        "\u001b[0;32m/Users/daniela/repositories/giantflare-paper/code/giantflare.pyc\u001b[0m in \u001b[0;36mrxte_simulations\u001b[0;34m(time, nsims, tcoarse, tfine, freq, nsteps, tseg, df, set_analysis, set_lc)\u001b[0m\n\u001b[1;32m    225\u001b[0m         \u001b[0mlcall\u001b[0m\u001b[0;34m,\u001b[0m \u001b[0mpsall\u001b[0m\u001b[0;34m,\u001b[0m \u001b[0mmid\u001b[0m\u001b[0;34m,\u001b[0m \u001b[0msavg\u001b[0m\u001b[0;34m,\u001b[0m \u001b[0mxerr\u001b[0m\u001b[0;34m,\u001b[0m \u001b[0mntrials\u001b[0m\u001b[0;34m,\u001b[0m \u001b[0msfreqs\u001b[0m\u001b[0;34m,\u001b[0m \u001b[0mspowers\u001b[0m \u001b[0;34m=\u001b[0m\u001b[0;31m \u001b[0m\u001b[0;31m\\\u001b[0m\u001b[0;34m\u001b[0m\u001b[0m\n\u001b[1;32m    226\u001b[0m             search_singlepulse(lcsim, nsteps=nsteps, tseg=tseg, df=df, fnyquist=0.5/tfine, stack=None,\n\u001b[0;32m--> 227\u001b[0;31m                                setlc=True, freq=freq)\n\u001b[0m\u001b[1;32m    228\u001b[0m \u001b[0;34m\u001b[0m\u001b[0m\n\u001b[1;32m    229\u001b[0m         \u001b[0;32mif\u001b[0m \u001b[0mset_lc\u001b[0m\u001b[0;34m:\u001b[0m\u001b[0;34m\u001b[0m\u001b[0m\n",
        "\u001b[0;32m/Users/daniela/repositories/giantflare-paper/code/giantflare.pyc\u001b[0m in \u001b[0;36msearch_singlepulse\u001b[0;34m(time, nsteps, tseg, df, freq, fnyquist, stack, setlc, norm, period)\u001b[0m\n\u001b[1;32m     82\u001b[0m             \u001b[0mmaxind\u001b[0m \u001b[0;34m=\u001b[0m \u001b[0mnp\u001b[0m\u001b[0;34m.\u001b[0m\u001b[0marray\u001b[0m\u001b[0;34m(\u001b[0m\u001b[0mtime\u001b[0m\u001b[0;34m.\u001b[0m\u001b[0mtime\u001b[0m\u001b[0;34m)\u001b[0m\u001b[0;34m.\u001b[0m\u001b[0msearchsorted\u001b[0m\u001b[0;34m(\u001b[0m\u001b[0mtmax\u001b[0m\u001b[0;34m)\u001b[0m\u001b[0;34m\u001b[0m\u001b[0m\n\u001b[1;32m     83\u001b[0m \u001b[0;34m\u001b[0m\u001b[0m\n\u001b[0;32m---> 84\u001b[0;31m             \u001b[0mlc\u001b[0m \u001b[0;34m=\u001b[0m \u001b[0mlightcurve\u001b[0m\u001b[0;34m.\u001b[0m\u001b[0mLightcurve\u001b[0m\u001b[0;34m(\u001b[0m\u001b[0mtime\u001b[0m\u001b[0;34m.\u001b[0m\u001b[0mtime\u001b[0m\u001b[0;34m[\u001b[0m\u001b[0mminind\u001b[0m\u001b[0;34m:\u001b[0m\u001b[0mmaxind\u001b[0m\u001b[0;34m]\u001b[0m\u001b[0;34m,\u001b[0m \u001b[0mcounts\u001b[0m\u001b[0;34m=\u001b[0m\u001b[0mtime\u001b[0m\u001b[0;34m.\u001b[0m\u001b[0mcounts\u001b[0m\u001b[0;34m[\u001b[0m\u001b[0mminind\u001b[0m\u001b[0;34m:\u001b[0m\u001b[0mmaxind\u001b[0m\u001b[0;34m]\u001b[0m\u001b[0;34m,\u001b[0m \u001b[0mtseg\u001b[0m \u001b[0;34m=\u001b[0m \u001b[0mtseg\u001b[0m\u001b[0;34m)\u001b[0m\u001b[0;34m\u001b[0m\u001b[0m\n\u001b[0m\u001b[1;32m     85\u001b[0m \u001b[0;34m\u001b[0m\u001b[0m\n\u001b[1;32m     86\u001b[0m         \u001b[0;32melse\u001b[0m\u001b[0;34m:\u001b[0m\u001b[0;34m\u001b[0m\u001b[0m\n",
        "\u001b[0;32m/Users/daniela/repositories/giantflare-paper/code/lightcurve.pyc\u001b[0m in \u001b[0;36m__init__\u001b[0;34m(self, time, counts, timestep, tseg, verbose, tstart)\u001b[0m\n\u001b[1;32m     43\u001b[0m             \u001b[0mself\u001b[0m\u001b[0;34m.\u001b[0m\u001b[0mcounts\u001b[0m \u001b[0;34m=\u001b[0m \u001b[0mnp\u001b[0m\u001b[0;34m.\u001b[0m\u001b[0marray\u001b[0m\u001b[0;34m(\u001b[0m\u001b[0mcounts\u001b[0m\u001b[0;34m)\u001b[0m\u001b[0;34m\u001b[0m\u001b[0m\n\u001b[1;32m     44\u001b[0m             \u001b[0mself\u001b[0m\u001b[0;34m.\u001b[0m\u001b[0mres\u001b[0m \u001b[0;34m=\u001b[0m \u001b[0mtime\u001b[0m\u001b[0;34m[\u001b[0m\u001b[0;36m1\u001b[0m\u001b[0;34m]\u001b[0m \u001b[0;34m-\u001b[0m \u001b[0mtime\u001b[0m\u001b[0;34m[\u001b[0m\u001b[0;36m0\u001b[0m\u001b[0;34m]\u001b[0m\u001b[0;34m\u001b[0m\u001b[0m\n\u001b[0;32m---> 45\u001b[0;31m             \u001b[0mself\u001b[0m\u001b[0;34m.\u001b[0m\u001b[0mcountrate\u001b[0m \u001b[0;34m=\u001b[0m \u001b[0;34m[\u001b[0m\u001b[0mt\u001b[0m\u001b[0;34m/\u001b[0m\u001b[0mself\u001b[0m\u001b[0;34m.\u001b[0m\u001b[0mres\u001b[0m \u001b[0;32mfor\u001b[0m \u001b[0mt\u001b[0m \u001b[0;32min\u001b[0m \u001b[0mself\u001b[0m\u001b[0;34m.\u001b[0m\u001b[0mcounts\u001b[0m\u001b[0;34m]\u001b[0m\u001b[0;34m\u001b[0m\u001b[0m\n\u001b[0m\u001b[1;32m     46\u001b[0m             \u001b[0mself\u001b[0m\u001b[0;34m.\u001b[0m\u001b[0mtseg\u001b[0m \u001b[0;34m=\u001b[0m \u001b[0mself\u001b[0m\u001b[0;34m.\u001b[0m\u001b[0mtime\u001b[0m\u001b[0;34m[\u001b[0m\u001b[0;34m-\u001b[0m\u001b[0;36m1\u001b[0m\u001b[0;34m]\u001b[0m \u001b[0;34m-\u001b[0m \u001b[0mself\u001b[0m\u001b[0;34m.\u001b[0m\u001b[0mtime\u001b[0m\u001b[0;34m[\u001b[0m\u001b[0;36m0\u001b[0m\u001b[0;34m]\u001b[0m \u001b[0;34m+\u001b[0m \u001b[0mself\u001b[0m\u001b[0;34m.\u001b[0m\u001b[0mres\u001b[0m\u001b[0;34m\u001b[0m\u001b[0m\n\u001b[1;32m     47\u001b[0m \u001b[0;34m\u001b[0m\u001b[0m\n",
        "\u001b[0;31mKeyboardInterrupt\u001b[0m: "
       ]
      }
     ],
     "prompt_number": 4
    },
    {
     "cell_type": "markdown",
     "metadata": {},
     "source": [
      "If you are in an interactive ipython session (like I am most times I do this), you probably have the RXTE arrival times loaded in `tnew_rxte` or a similar name. In order to save a little on execution time, you can pass it into the `tnew`keyword. \n",
      "\n",
      "The resulting file can be passed to the `savgallfile` keyword of `rxte_pvalues`. For running many simulations on a multi-core processor, it may be useful to break the run up into smaller segments and start them independently. Threading is not supported. Sorry."
     ]
    },
    {
     "cell_type": "markdown",
     "metadata": {},
     "source": [
      "In order to compare the observed QPO with simulations that include a signal, we can make simulated light curves by smoothing out all variability >100 Hz, and then injecting back a signal. In the paper, we inject a periodic signal into a short (0.5s) segment into the cycle where we observe the highest power in the data, and the cycle exactly before that. This can be done in the function `rxte_qpo_sims_singlecycle`, which takes the number of simulations as input (parameter `nsims`):"
     ]
    },
    {
     "cell_type": "code",
     "collapsed": false,
     "input": [
      "reload(giantflare_paper_analysis)\n",
      "nsims=10 ## change the number of simulations, small here not to make the program run forever\n",
      "mid_coarse_all, savg_coarse_all, mid_fine_all, savg_fine_all, pvals_all = \\\n",
      "    giantflare_paper_analysis.rxte_qpo_sims_singlecycle(nsims)\n",
      "print(mid_coarse_all)"
     ],
     "language": "python",
     "metadata": {},
     "outputs": []
    },
    {
     "cell_type": "markdown",
     "metadata": {},
     "source": [
      "The result is Figure 6 in the paper. This basically concludes the RXTE analysis as performed in the paper. Of course, you can fiddle with the details and parameters to your heart's content."
     ]
    },
    {
     "cell_type": "markdown",
     "metadata": {},
     "source": []
    },
    {
     "cell_type": "heading",
     "level": 2,
     "metadata": {},
     "source": [
      "Computing P-values for the RHESSI data"
     ]
    },
    {
     "cell_type": "markdown",
     "metadata": {},
     "source": [
      "The analysis of the RHESSI data proceeds in much the same vein as for the RXTE data, but is a little more involved because of the lower data quality of the RHESSI data. For the RXTE data, it is fairly obvious that the signal is confined to a single bin. \n",
      "For the RHESSI data, we perform a somewhat more complex analysis, where we search segments of different size for signals.\n",
      "This requires four separate simulation runs, one for each of the tested segment sizes (`bins = [0.5, 1.0, 2.0, 2.5]`). Note that for the 2-second-segments, this run is very, very big ($10^6$ simulations; $10^4$ for the other segments), which took me about 3 weeks on a 20-core machine. If you don't want to run this yourself, I suggest using the files I made. \n",
      "Below is nevertheless the code that makes these simulations:"
     ]
    },
    {
     "cell_type": "code",
     "collapsed": false,
     "input": [
      "tnew_rhessi = giantflare_paper_analysis.load_rhessi_data(datadir=\"../data/\") ## load RHESSI data\n",
      "nsims = 10 ## change number of simulations, small here not to make the program run forever\n",
      "savgall_05 = giantflare_paper_analysis.make_rhessi_sims(tnew=tnew_rhessi, tseg_all=[0.5], nsims=nsims,save=True, froot=\"sgr1806_rhessi_tseg=0.5s\")\n",
      "savgall_1 = giantflare_paper_analysis.make_rhessi_sims(tnew=tnew_rhessi, tseg_all=[1.0], nsims=nsims,save=True, froot=\"sgr1806_rhessi_tseg=1.0s\")\n",
      "savgall_2 = giantflare_paper_analysis.make_rhessi_sims(tnew=tnew_rhessi, tseg_all=[2.0], nsims=nsims,save=True, froot=\"sgr1806_rhessi_tseg=2.0s\")\n",
      "savgall_25 = giantflare_paper_analysis.make_rhessi_sims(tnew=tnew_rhessi, tseg_all=[2.5], nsims=nsims,save=True, froot=\"sgr1806_rhessi_tseg=2.5s\")\n"
     ],
     "language": "python",
     "metadata": {},
     "outputs": [
      {
       "output_type": "stream",
       "stream": "stdout",
       "text": [
        "I am on simulation 0\n",
        "I am here in search_singlepulse"
       ]
      },
      {
       "output_type": "stream",
       "stream": "stdout",
       "text": [
        "\n",
        "I am on simulation 1\n",
        "I am here in search_singlepulse"
       ]
      },
      {
       "output_type": "stream",
       "stream": "stdout",
       "text": [
        "\n",
        "I am on simulation 2"
       ]
      },
      {
       "output_type": "stream",
       "stream": "stdout",
       "text": [
        "\n",
        "I am here in search_singlepulse"
       ]
      },
      {
       "output_type": "stream",
       "stream": "stdout",
       "text": [
        "\n",
        "I am on simulation 3"
       ]
      },
      {
       "output_type": "stream",
       "stream": "stdout",
       "text": [
        "\n",
        "I am here in search_singlepulse"
       ]
      },
      {
       "output_type": "stream",
       "stream": "stdout",
       "text": [
        "\n",
        "I am on simulation 4"
       ]
      },
      {
       "output_type": "stream",
       "stream": "stdout",
       "text": [
        "\n",
        "I am here in search_singlepulse"
       ]
      },
      {
       "output_type": "stream",
       "stream": "stdout",
       "text": [
        "\n",
        "I am on simulation 5"
       ]
      },
      {
       "output_type": "stream",
       "stream": "stdout",
       "text": [
        "\n",
        "I am here in search_singlepulse"
       ]
      },
      {
       "output_type": "stream",
       "stream": "stdout",
       "text": [
        "\n",
        "I am on simulation 6"
       ]
      },
      {
       "output_type": "stream",
       "stream": "stdout",
       "text": [
        "\n",
        "I am here in search_singlepulse"
       ]
      },
      {
       "output_type": "stream",
       "stream": "stdout",
       "text": [
        "\n",
        "I am on simulation 7"
       ]
      },
      {
       "output_type": "stream",
       "stream": "stdout",
       "text": [
        "\n",
        "I am here in search_singlepulse"
       ]
      },
      {
       "output_type": "stream",
       "stream": "stdout",
       "text": [
        "\n",
        "I am on simulation 8"
       ]
      },
      {
       "output_type": "stream",
       "stream": "stdout",
       "text": [
        "\n",
        "I am here in search_singlepulse"
       ]
      },
      {
       "output_type": "stream",
       "stream": "stdout",
       "text": [
        "\n",
        "I am on simulation 9"
       ]
      },
      {
       "output_type": "stream",
       "stream": "stdout",
       "text": [
        "\n",
        "I am here in search_singlepulse"
       ]
      },
      {
       "output_type": "stream",
       "stream": "stdout",
       "text": [
        "\n",
        "I am on simulation 0"
       ]
      },
      {
       "output_type": "stream",
       "stream": "stdout",
       "text": [
        "\n",
        "I am here in search_singlepulse"
       ]
      },
      {
       "output_type": "stream",
       "stream": "stdout",
       "text": [
        "\n",
        "I am on simulation 1\n",
        "I am here in search_singlepulse"
       ]
      },
      {
       "output_type": "stream",
       "stream": "stdout",
       "text": [
        "\n",
        "I am on simulation 2"
       ]
      },
      {
       "output_type": "stream",
       "stream": "stdout",
       "text": [
        "\n",
        "I am here in search_singlepulse"
       ]
      },
      {
       "output_type": "stream",
       "stream": "stdout",
       "text": [
        "\n",
        "I am on simulation 3"
       ]
      },
      {
       "output_type": "stream",
       "stream": "stdout",
       "text": [
        "\n",
        "I am here in search_singlepulse"
       ]
      },
      {
       "output_type": "stream",
       "stream": "stdout",
       "text": [
        "\n",
        "I am on simulation 4"
       ]
      },
      {
       "output_type": "stream",
       "stream": "stdout",
       "text": [
        "\n",
        "I am here in search_singlepulse"
       ]
      },
      {
       "output_type": "stream",
       "stream": "stdout",
       "text": [
        "\n",
        "I am on simulation 5"
       ]
      },
      {
       "output_type": "stream",
       "stream": "stdout",
       "text": [
        "\n",
        "I am here in search_singlepulse"
       ]
      },
      {
       "output_type": "stream",
       "stream": "stdout",
       "text": [
        "\n",
        "I am on simulation 6"
       ]
      },
      {
       "output_type": "stream",
       "stream": "stdout",
       "text": [
        "\n",
        "I am here in search_singlepulse"
       ]
      },
      {
       "output_type": "stream",
       "stream": "stdout",
       "text": [
        "\n",
        "I am on simulation 7"
       ]
      },
      {
       "output_type": "stream",
       "stream": "stdout",
       "text": [
        "\n",
        "I am here in search_singlepulse"
       ]
      },
      {
       "output_type": "stream",
       "stream": "stdout",
       "text": [
        "\n",
        "I am on simulation 8"
       ]
      },
      {
       "output_type": "stream",
       "stream": "stdout",
       "text": [
        "\n",
        "I am here in search_singlepulse"
       ]
      },
      {
       "output_type": "stream",
       "stream": "stdout",
       "text": [
        "\n",
        "I am on simulation 9"
       ]
      },
      {
       "output_type": "stream",
       "stream": "stdout",
       "text": [
        "\n",
        "I am here in search_singlepulse"
       ]
      },
      {
       "output_type": "stream",
       "stream": "stdout",
       "text": [
        "\n",
        "I am on simulation 0"
       ]
      },
      {
       "output_type": "stream",
       "stream": "stdout",
       "text": [
        "\n",
        "I am here in search_singlepulse"
       ]
      },
      {
       "output_type": "stream",
       "stream": "stdout",
       "text": [
        "\n",
        "I am on simulation 1\n",
        "I am here in search_singlepulse"
       ]
      },
      {
       "output_type": "stream",
       "stream": "stdout",
       "text": [
        "\n",
        "I am on simulation 2"
       ]
      },
      {
       "output_type": "stream",
       "stream": "stdout",
       "text": [
        "\n",
        "I am here in search_singlepulse"
       ]
      },
      {
       "output_type": "stream",
       "stream": "stdout",
       "text": [
        "\n",
        "I am on simulation 3"
       ]
      },
      {
       "output_type": "stream",
       "stream": "stdout",
       "text": [
        "\n",
        "I am here in search_singlepulse"
       ]
      },
      {
       "output_type": "stream",
       "stream": "stdout",
       "text": [
        "\n",
        "I am on simulation 4"
       ]
      },
      {
       "output_type": "stream",
       "stream": "stdout",
       "text": [
        "\n",
        "I am here in search_singlepulse"
       ]
      },
      {
       "output_type": "stream",
       "stream": "stdout",
       "text": [
        "\n",
        "I am on simulation 5"
       ]
      },
      {
       "output_type": "stream",
       "stream": "stdout",
       "text": [
        "\n",
        "I am here in search_singlepulse"
       ]
      },
      {
       "output_type": "stream",
       "stream": "stdout",
       "text": [
        "\n",
        "I am on simulation 6"
       ]
      },
      {
       "output_type": "stream",
       "stream": "stdout",
       "text": [
        "\n",
        "I am here in search_singlepulse"
       ]
      },
      {
       "output_type": "stream",
       "stream": "stdout",
       "text": [
        "\n",
        "I am on simulation 7"
       ]
      },
      {
       "output_type": "stream",
       "stream": "stdout",
       "text": [
        "\n",
        "I am here in search_singlepulse"
       ]
      },
      {
       "output_type": "stream",
       "stream": "stdout",
       "text": [
        "\n",
        "I am on simulation 8"
       ]
      },
      {
       "output_type": "stream",
       "stream": "stdout",
       "text": [
        "\n",
        "I am here in search_singlepulse"
       ]
      },
      {
       "output_type": "stream",
       "stream": "stdout",
       "text": [
        "\n",
        "I am on simulation 9"
       ]
      },
      {
       "output_type": "stream",
       "stream": "stdout",
       "text": [
        "\n",
        "I am here in search_singlepulse"
       ]
      },
      {
       "output_type": "stream",
       "stream": "stdout",
       "text": [
        "\n",
        "I am on simulation 0"
       ]
      },
      {
       "output_type": "stream",
       "stream": "stdout",
       "text": [
        "\n",
        "I am here in search_singlepulse"
       ]
      },
      {
       "output_type": "stream",
       "stream": "stdout",
       "text": [
        "\n",
        "I am on simulation 1\n",
        "I am here in search_singlepulse"
       ]
      },
      {
       "output_type": "stream",
       "stream": "stdout",
       "text": [
        "\n",
        "I am on simulation 2"
       ]
      },
      {
       "output_type": "stream",
       "stream": "stdout",
       "text": [
        "\n",
        "I am here in search_singlepulse"
       ]
      },
      {
       "output_type": "stream",
       "stream": "stdout",
       "text": [
        "\n",
        "I am on simulation 3"
       ]
      },
      {
       "output_type": "stream",
       "stream": "stdout",
       "text": [
        "\n",
        "I am here in search_singlepulse"
       ]
      },
      {
       "output_type": "stream",
       "stream": "stdout",
       "text": [
        "\n",
        "I am on simulation 4"
       ]
      },
      {
       "output_type": "stream",
       "stream": "stdout",
       "text": [
        "\n",
        "I am here in search_singlepulse"
       ]
      },
      {
       "output_type": "stream",
       "stream": "stdout",
       "text": [
        "\n",
        "I am on simulation 5"
       ]
      },
      {
       "output_type": "stream",
       "stream": "stdout",
       "text": [
        "\n",
        "I am here in search_singlepulse"
       ]
      },
      {
       "output_type": "stream",
       "stream": "stdout",
       "text": [
        "\n",
        "I am on simulation 6"
       ]
      },
      {
       "output_type": "stream",
       "stream": "stdout",
       "text": [
        "\n",
        "I am here in search_singlepulse"
       ]
      },
      {
       "output_type": "stream",
       "stream": "stdout",
       "text": [
        "\n",
        "I am on simulation 7"
       ]
      },
      {
       "output_type": "stream",
       "stream": "stdout",
       "text": [
        "\n",
        "I am here in search_singlepulse"
       ]
      },
      {
       "output_type": "stream",
       "stream": "stdout",
       "text": [
        "\n",
        "I am on simulation 8"
       ]
      },
      {
       "output_type": "stream",
       "stream": "stdout",
       "text": [
        "\n",
        "I am here in search_singlepulse"
       ]
      },
      {
       "output_type": "stream",
       "stream": "stdout",
       "text": [
        "\n",
        "I am on simulation 9"
       ]
      },
      {
       "output_type": "stream",
       "stream": "stdout",
       "text": [
        "\n",
        "I am here in search_singlepulse"
       ]
      },
      {
       "output_type": "stream",
       "stream": "stdout",
       "text": [
        "\n"
       ]
      }
     ],
     "prompt_number": 10
    },
    {
     "cell_type": "markdown",
     "metadata": {},
     "source": [
      "This will create four numpy arrays with the power at 625 Hz in every segment. The array is also saved in a simple ascii file of filename `\"%s_savgall.dat\"%froot`. Once you have run simulations for all your required segments (the ones in the example above are the default values I used, but you can fiddle with them as necessary), they can then be directly used to compute the p-values for each segment, and make Figure 7 of the paper:"
     ]
    },
    {
     "cell_type": "code",
     "collapsed": false,
     "input": [
      "pvals_all = giantflare_paper_analysis.rhessi_simulations_results(tnew=None, tseg_all=[0.5, 1.0, 2.0, 2.5], df_all=[2.0, 1.0, 0.5, 1.0/2.5],\n",
      "                               freq = [627.0, 627.0, 626.5,626.0], classical=False,maxpowers=True,\n",
      "                               froot_in=\"sgr1806_rhessi\", froot_out=\"sgr1806_rhessi\", plotdist=True)"
     ],
     "language": "python",
     "metadata": {},
     "outputs": []
    },
    {
     "cell_type": "markdown",
     "metadata": {},
     "source": [
      "If you have the list of photon arrival times loaded, you can put it directly into the `tnew` keyword and save a bit of execution time. `tseg_all` needs to be a list of all time segments you are interested in (and have savgall-files for!). In `df_all`, you can set a frequency resolution, but be warned that the new frequency resolution must be an integer multiple of the original frequency resolution! `freq` defines the frequency of the QPO, i.e. the frequency we are interested in. Note that this changes for different segments here, because the frequency resolution is different, shifting the bulk of the signal into slightly different bins. \n",
      "\n",
      "If `classical` is True, then no simulations are used, and the probabilities for the maximum powers at the QPO frequency are computed using analytical equations from Groth (1975) appropriate for detection of periodic signals in white noise. This can serve as a first check of what we expect the significance to be. I mostly  used it to roughly estimate the number of simulations required for each segment. **DO NOT DO THIS FOR LOW FREQUENCIES!** At low frequencies, the periodgrams are dominated by the underlying pulse profile, and classical p-values will vastly overstate the signficance of a signal!\n",
      "\n",
      "If `maxpowers=True`, the code assumes that you have a file with maximum powers across all segments for each segment size. If you need to re-run the function several times, using a file with the maximum powers at the QPO frequency for all segments across segment sizes and averaged cycles will save you a lot of time, because converting a savgall-file into a maxpowers file, while easily done, takes a long time to do (think a couple of hours for 10000 simulations), while loading the file from disc doesn't. So, run the first time with `maxpowers=False`, if you have your own simulations (a maxpowers file is provided from my own runs), to have the code convert your simulation output files automatically in the right format for next time. For subsequent runs, set `maxpowers=True`.\n",
      "\n",
      "In `froot_in`, specify details of the input filename, either for your direct output of the simulations, or the processed maxpowers-data file. The filename needs to be of type `\"%s*_tseg=%.1f*savgall*\"%(froot_in, tseg)`, where `tseg` is an element of `tseg_all`. The program will glob the file names in your directory. If you're like me, then you've probably run `make_rhessi_sims` on a multi-core machine in several stages (I used increments of 5000, using 10000 and running several in parallel gets quite memory-intensive), so that I have files, for example, `[\"sgr1806_rhessi1_tseg=0.5_savgall.dat\", \"sgr1806_rhessi2_tseg=0.5_savgall.dat\", ..., \"sgr1806_rhessi25_tseg=0.5_savgall.dat\"]`, which glob ought to find fairly easily. The code will then compute the averages over `2` to `n` cycles (19 for the RHESSI data), find the maximum power across all segments, and save the resulting numpy array in a text-file of the type `\"%s_tseg=%.1f_simulated_maxpowers.txt\"%(froot_out, tseg)`, which can be used in future runs. \n",
      "\n",
      "If `plotdist=True`, the code will produce a number of plots (one for each cycle average and each segment size), comparing the theoretical expected distribution of maximum powers across segments (derived from draws from a $\\chi^2_{2n}$ distribution, where $n$ is the number of averaged cycles) with that derived from simulations of the light curve. This provides a test of how different the actual distributions are from the theoretical expectations."
     ]
    },
    {
     "cell_type": "markdown",
     "metadata": {},
     "source": []
    },
    {
     "cell_type": "heading",
     "level": 2,
     "metadata": {},
     "source": [
      "RHESSI Simulations with a Periodic Signal"
     ]
    },
    {
     "cell_type": "markdown",
     "metadata": {},
     "source": [
      "In order to understand the behaviour of the QPO in the RHESSI data better, and to see whether the observations require a signal being present throughout all 19 cycles (as opposed to a short-lived, possibly re-excited signal), we performed simulations with a periodic signal injected into the smoothed light curve, as we did for the RXTE data. \n",
      "We made two different assumptions: (1) a QPO that is present at a fairly low level in all cycles, (2) a signal that is strongly present in 2 cycles, and re-excited a few cycles later, but at a lower level. The code also allows for a third possibility not included in the paper: a periodic signal that is re-excited in every cycle, but with an onset that varies randomly in rotational phase (of the neutron star). \n",
      "\n",
      "In order to test the two different hypothesis, we can create simulations much like in the function `make_rhessi_sims`, but with an additional periodic signal. Each of these simulations is then analysed in much the same way as the observed data, by comparing them to our initial run of simulations **without** periodic signal, for all segment sizes. Note that this function **requires** a maxpower-file for each segment size of interest, otherwise it'll never finish.\n",
      "\n",
      "You can run it like this:"
     ]
    },
    {
     "cell_type": "code",
     "collapsed": false,
     "input": [
      "nsims=10 ## change number of simulations, small here not to make the program run forever\n",
      "giantflare_paper_analysis.rhessi_qpo_sims_allcycles(nsims=nsims, froot=\"../data/sgr1806_rhessi\")\n",
      "giantflare_paper_analysis.rhessi_qpo_sims_singlecycle(nsims=nsims, froot=\"../data/sgr1806_rhessi\")\n",
      "## giantflare_paper_analysis.rhessi_qpo_sims_allcycles_randomised(nsims=nsims, froot=\"../data/sgr1806_rhessi\")"
     ],
     "language": "python",
     "metadata": {},
     "outputs": []
    },
    {
     "cell_type": "markdown",
     "metadata": {},
     "source": [
      "Or you can use the files I provide. Note that the second (commented out) command is for case (3) mentioned above that is not part of the paper, but one of the possibilities I played around with. \n",
      "I hard-coded the details of the periodic signal (where it appears in each cycle, in how many cycles it appears, at which frequency and amplitude) into these three functions, but of course, you can play around with the code as you wish. Note that the name `rhessi_qpo_sims_singlecycle` is kind of misleading, because it actually contains a signal that's re-excited several times (but is not present in every cycle). \n",
      "\n",
      "If you have run these simulations, or decided to use my runs, you can evaluate them like this: "
     ]
    },
    {
     "cell_type": "code",
     "collapsed": false,
     "input": [
      "pvals_all, pvals_hist_all = giantflare_paper_analysis.rhessi_qpo_sims_images(tseg_all=[0.5,1.0,2.0,2.5], \n",
      "                                                                             df_all=[2.0, 1.0, 0.5, 1.0/2.5], \n",
      "                                                                             nbins=30, \n",
      "                                                                             froot_in=\"../data/sgr1806_rhessi\",\n",
      "                                                                             froot_sims=\"allcycles\", \n",
      "                                                                             classical=False, \n",
      "                                                                             freq=[627.0, 627.0, 626.5,626.0])"
     ],
     "language": "python",
     "metadata": {},
     "outputs": []
    },
    {
     "cell_type": "markdown",
     "metadata": {},
     "source": [
      "Here, `tseg_all` and `df_all` should be the same as for the observed data, otherwise the results will not be comparable!\n",
      "The code will produce a histograms for the simulations with injected signal (for each cycle average) and plot these as heat map, with the observed p-values overplotted. The parameter `nbins` sets the number of bins of the histogram.\n",
      "`froot_in` should match `froot` from the function that made the simulations with QPO, `froot_sims` is a keyword that's either `\"allcycles\"`, `\"allcyclesrandomised\"` or `\"singlecycle\"`, depending on which function you used above. As before `classical` sets a Boolean variable that decides whether a classical (analytical) significance test is used rather than simulations of the light curve, and the list `freq` sets the frequency at which the code looks for the QPO. \n",
      "\n",
      "In the case above, I run the code for simulations with a periodic signal in all cycles of the type `\"%s*_%s_tseg=%.1f*savgall.txt\"%(froot_in,froot_sims, tseg)`, where the code again uses `glob` to find all files matching this description (this means you can run these simulations in increments across multiple processors, too). \n",
      "Doing the same for the other two types of simulations is straightforward. "
     ]
    },
    {
     "cell_type": "heading",
     "level": 2,
     "metadata": {},
     "source": [
      "Plotting Only"
     ]
    },
    {
     "cell_type": "markdown",
     "metadata": {},
     "source": [
      "If really all you want to do is re-make the plots from the paper, and not in re-running the entire analysis, you can run the plotting functions at the bottom of the script only:"
     ]
    },
    {
     "cell_type": "code",
     "collapsed": false,
     "input": [
      "## The first 4 plots are just illustrations of how the analysis works\n",
      "giantflare_paper_analysis.plot_averaging_example() ## plot Figure 1\n",
      "giantflare_paper_analysis.maxpower_plot() ## plot Figure 2\n",
      "giantflare_paper_analysis.make_analysis_schematic() ## plot Figure 3\n",
      "giantflare_paper_analysis.plot_lightcurves(datadir=\"../data/\") ## plot Figure 4\n",
      "## RXTE Analysis\n",
      "giantflare_paper_analysis.plot_rxte_pvalues(nsims=100000, froot = \"../data/sgr1806_rxte\") ## plot Figure 5\n",
      "giantflare_paper_analysis.plot_rxte_sims_singlecycle(froot=\"../data/sgr1806_rxte_strongestcycle\") ## plot Figure 6\n",
      "## RHESSI Analysis\n",
      "giantflare_paper_analysis.plot_rhessi_pvalues(filename=\"../data/sgr1806_rhessi_pvals_all.txt\", tseg=[0.5,1.0,2.0,2.5]) ## plot Figure 7\n",
      "giantflare_paper_analysis.plot_rhessi_qpo_simulations(tnew=None, tseg_all=[0.5,1.0,2.0,2.5], df_all = [2.0, 1.0, 1.0, 1.0, 1.0],\n",
      "                                freq=[627.0, 627.0, 626.5,626.0])"
     ],
     "language": "python",
     "metadata": {},
     "outputs": []
    },
    {
     "cell_type": "markdown",
     "metadata": {},
     "source": [
      "And that's it! You're done! :)"
     ]
    }
   ],
   "metadata": {}
  }
 ]
}